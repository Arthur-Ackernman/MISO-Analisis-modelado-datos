{
 "cells": [
  {
   "cell_type": "markdown",
   "id": "2fb0b714-213a-4d77-ad2b-1e949729aabc",
   "metadata": {},
   "source": [
    "# Entendimiento de los datos con PySpark"
   ]
  },
  {
   "cell_type": "markdown",
   "id": "b9eb6b00-f32c-4907-8f46-084f3216dd5e",
   "metadata": {},
   "source": [
    "## 1- Configuracion general\n"
   ]
  },
  {
   "cell_type": "markdown",
   "id": "f401b370-807e-4cb9-8582-db66a89b5f4b",
   "metadata": {},
   "source": [
    "### 1.1- Configuración e importe de paquetes\n",
    "Se utilizará el paquete de pandas profiling para apoyar el análisis estadístico, y se importan los paquetes de python necesarios"
   ]
  },
  {
   "cell_type": "code",
   "execution_count": 44,
   "id": "61338840-638b-4413-bc96-9443341bb39c",
   "metadata": {},
   "outputs": [],
   "source": [
    "from pyspark.sql import SparkSession\n",
    "from pyspark.sql import functions\n",
    "from pyspark.sql.types import StructType\n",
    "from pyspark import SparkContext, SparkConf, SQLContext\n",
    "from pyspark.sql.types import FloatType, StringType, IntegerType, DateType\n",
    "from pyspark.sql.functions import udf, col, length, isnan, when, count\n",
    "import pyspark.sql.functions as f\n",
    "import os \n",
    "from datetime import datetime\n",
    "from pyspark.sql import types as t\n",
    "#from pandas_profiling import ProfileReport\n",
    "from ydata_profiling import ProfileReport\n",
    "#import matplotlib.pyplot as plt\n",
    "import numpy as np\n",
    "from pyspark.sql.functions import to_timestamp\n",
    "from pyspark.sql.functions import to_date\n",
    "from pyspark.sql.functions import date_format"
   ]
  },
  {
   "cell_type": "markdown",
   "id": "6345e908-57e5-401b-8b45-23dc947c5dd7",
   "metadata": {},
   "source": [
    "Configuración del controlador e inicio de sesion Spark"
   ]
  },
  {
   "cell_type": "code",
   "execution_count": 2,
   "id": "8f1f6e65-c83a-46d6-b63a-f8ed69fc86e0",
   "metadata": {},
   "outputs": [],
   "source": [
    "path_jar_driver = '/home/luissolier/Documents/miso/ciclo-7/analisis-y-modelado-de-datos/tutoriales/entendimiento-datos/mysql-connector-java-8.0.28.jar'"
   ]
  },
  {
   "cell_type": "code",
   "execution_count": 3,
   "id": "7b675a31-bfd9-48f5-918b-8f5fc505210c",
   "metadata": {},
   "outputs": [
    {
     "name": "stderr",
     "output_type": "stream",
     "text": [
      "23/08/23 19:05:44 WARN Utils: Your hostname, pop-os resolves to a loopback address: 127.0.1.1; using 192.168.1.41 instead (on interface enp46s0)\n",
      "23/08/23 19:05:44 WARN Utils: Set SPARK_LOCAL_IP if you need to bind to another address\n",
      "WARNING: An illegal reflective access operation has occurred\n",
      "WARNING: Illegal reflective access by org.apache.spark.unsafe.Platform (file:/home/luissolier/Documents/miso/ciclo-7/analisis-y-modelado-de-datos/tutoriales/entendimiento-datos/tutorial-env/lib/python3.10/site-packages/pyspark/jars/spark-unsafe_2.12-3.2.1.jar) to constructor java.nio.DirectByteBuffer(long,int)\n",
      "WARNING: Please consider reporting this to the maintainers of org.apache.spark.unsafe.Platform\n",
      "WARNING: Use --illegal-access=warn to enable warnings of further illegal reflective access operations\n",
      "WARNING: All illegal access operations will be denied in a future release\n",
      "Using Spark's default log4j profile: org/apache/spark/log4j-defaults.properties\n",
      "Setting default log level to \"WARN\".\n",
      "To adjust logging level use sc.setLogLevel(newLevel). For SparkR, use setLogLevel(newLevel).\n",
      "23/08/23 19:05:45 WARN NativeCodeLoader: Unable to load native-hadoop library for your platform... using builtin-java classes where applicable\n",
      "23/08/23 19:05:45 WARN Utils: Service 'SparkUI' could not bind on port 4040. Attempting port 4041.\n",
      "23/08/23 19:05:45 WARN Utils: Service 'SparkUI' could not bind on port 4041. Attempting port 4042.\n",
      "/home/luissolier/Documents/miso/ciclo-7/analisis-y-modelado-de-datos/tutoriales/entendimiento-datos/tutorial-env/lib/python3.10/site-packages/pyspark/sql/context.py:77: FutureWarning: Deprecated in 3.0.0. Use SparkSession.builder.getOrCreate() instead.\n",
      "  warnings.warn(\n"
     ]
    }
   ],
   "source": [
    "#Configuración de la sesión\n",
    "conf=SparkConf() \\\n",
    "    .set('spark.driver.extraClassPath', path_jar_driver)\n",
    "\n",
    "spark_context = SparkContext(conf=conf)\n",
    "sql_context = SQLContext(spark_context)\n",
    "spark = sql_context.sparkSession"
   ]
  },
  {
   "cell_type": "code",
   "execution_count": 4,
   "id": "06686a34-fc46-4f18-ab58-6bede9d2befe",
   "metadata": {},
   "outputs": [],
   "source": [
    "# Si quiere practicar la conexion con el servidor de base de datos:\n",
    "db_connection_string = 'jdbc:mysql://localhost:3306/WWImportersTransactional'\n",
    "# El usuario es su estudiante _i asignado y su contraseña la encontrará en el archivo excel de Coursera \n",
    "db_user = ''\n",
    "db_psswd = ''\n",
    "\n",
    "PATH='./'"
   ]
  },
  {
   "cell_type": "markdown",
   "id": "f26242e4-a21f-46ba-9142-7846bf9fe594",
   "metadata": {},
   "source": [
    "### 1.2- Conexión a fuente de datos y acceso a los datos"
   ]
  },
  {
   "cell_type": "code",
   "execution_count": 5,
   "id": "0adc2acd-003a-4d71-9553-176c53c217d4",
   "metadata": {},
   "outputs": [],
   "source": [
    "def obtener_dataframe_de_bd(db_connection_string, sql, db_user, db_psswd):\n",
    "    df_bd = spark.read.format('jdbc')\\\n",
    "        .option('url', db_connection_string) \\\n",
    "        .option('dbtable', sql) \\\n",
    "        .option('user', db_user) \\\n",
    "        .option('password', db_psswd) \\\n",
    "        .option('driver', 'com.mysql.cj.jdbc.Driver') \\\n",
    "        .load()\n",
    "    return df_bd"
   ]
  },
  {
   "cell_type": "markdown",
   "id": "083d4a52-eccc-47ac-a235-c723cd8d8b60",
   "metadata": {},
   "source": [
    "### 1.3- Cargue de datos"
   ]
  },
  {
   "cell_type": "code",
   "execution_count": 13,
   "id": "1b91733b-f624-4ef1-96cb-27c7daa03e04",
   "metadata": {},
   "outputs": [],
   "source": [
    "sql_movimientos = 'WWImportersTransactional.movimientosCopia'\n",
    "sql_tipos_transaccion = 'WWImportersTransactional.TiposTransaccion'"
   ]
  },
  {
   "cell_type": "code",
   "execution_count": 14,
   "id": "d47e2d90-49d6-44c6-8322-e2bfbf34b233",
   "metadata": {},
   "outputs": [],
   "source": [
    "#Se cargan los dataframes desde la base de datos\n",
    "movimientos = obtener_dataframe_de_bd(db_connection_string, sql_movimientos, db_user, db_psswd)\n",
    "tipos_transaccion = obtener_dataframe_de_bd(db_connection_string, sql_tipos_transaccion, db_user, db_psswd)"
   ]
  },
  {
   "cell_type": "markdown",
   "id": "b0dd1e1b-9d2a-4b30-94cd-651e80729136",
   "metadata": {},
   "source": [
    "## 2- Información dada por la organización relacionada con los datos\n",
    "\n"
   ]
  },
  {
   "cell_type": "markdown",
   "id": "058e9a3e-849b-4a25-ad8e-c3199519ae31",
   "metadata": {},
   "source": [
    "## 3- Perfilamiento de los datos"
   ]
  },
  {
   "cell_type": "markdown",
   "id": "3a116c88-2ec9-49b0-b23d-e5ef9506ecd7",
   "metadata": {},
   "source": [
    "### 3.1- Entendimiento general de datos"
   ]
  },
  {
   "cell_type": "code",
   "execution_count": 19,
   "id": "009c5b6a-9ed6-473f-9a91-df74e7010e91",
   "metadata": {},
   "outputs": [
    {
     "name": "stdout",
     "output_type": "stream",
     "text": [
      "+---------------------+----------+-----------------+---------+---------+-----------+---------------+----------------+--------+\n",
      "|TransaccionProductoID|ProductoID|TipoTransaccionID|ClienteID|InvoiceID|ProveedorID|OrdenDeCompraID|FechaTransaccion|Cantidad|\n",
      "+---------------------+----------+-----------------+---------+---------+-----------+---------------+----------------+--------+\n",
      "|               118903|       217|               10|    476.0|  24904.0|           |               |     Apr 25,2014|   -40.0|\n",
      "|               286890|       135|               10|     33.0|  60117.0|           |               |     Dec 10,2015|    -7.0|\n",
      "|               285233|       111|               10|    180.0|  59768.0|           |               |     Dec 04,2015|    -2.0|\n",
      "|               290145|       213|               10|     33.0|  60795.0|           |               |     Dec 23,2015|    -3.0|\n",
      "|               247492|        90|               10|     55.0|  51851.0|           |               |     Jul 27,2015|   -24.0|\n",
      "|               157714|       212|               10|    146.0|  33043.0|           |               |     Sep 15,2014|   -20.0|\n",
      "|               250024|       218|               10|    585.0|  52377.0|           |               |     Aug 04,2015|   -60.0|\n",
      "|               200801|       120|               10|     30.0|  42049.0|           |               |     Feb 23,2015|    -3.0|\n",
      "|               221525|       129|               10|    596.0|  46388.0|           |               |     May 01,2015|    -7.0|\n",
      "|               295331|       197|               10|   1037.0|  61886.0|           |               |     Jan 08,2016|  -216.0|\n",
      "+---------------------+----------+-----------------+---------+---------+-----------+---------------+----------------+--------+\n",
      "only showing top 10 rows\n",
      "\n"
     ]
    }
   ],
   "source": [
    "movimientos.show(10)"
   ]
  },
  {
   "cell_type": "code",
   "execution_count": 17,
   "id": "ec14ec54-b298-4b95-a3ee-9700f35ae7ac",
   "metadata": {},
   "outputs": [
    {
     "name": "stdout",
     "output_type": "stream",
     "text": [
      "+-----------------+---------------------+\n",
      "|TipoTransaccionID|TipoTransaccionNombre|\n",
      "+-----------------+---------------------+\n",
      "|                2| Customer Credit Note|\n",
      "|                3| Customer Payment ...|\n",
      "|                4|      Customer Refund|\n",
      "|                5|     Supplier Invoice|\n",
      "|                6| Supplier Credit Note|\n",
      "|                7| Supplier Payment ...|\n",
      "|                8|      Supplier Refund|\n",
      "|                9|       Stock Transfer|\n",
      "|               10|          Stock Issue|\n",
      "|               11|        Stock Receipt|\n",
      "|               12| Stock Adjustment ...|\n",
      "|               13|      Customer Contra|\n",
      "+-----------------+---------------------+\n",
      "\n"
     ]
    }
   ],
   "source": [
    "tipos_transaccion.show(15)"
   ]
  },
  {
   "cell_type": "markdown",
   "id": "97c7b753-7b9b-4000-b283-648aa4f4f66e",
   "metadata": {},
   "source": [
    "### 3.2- Revisión de reglas de negocio "
   ]
  },
  {
   "cell_type": "markdown",
   "id": "1b9700a3-3b80-4cd5-b3e1-37bb0376134c",
   "metadata": {},
   "source": [
    "#### 3.2.1- La cantidad maxima de productos movidos es 50 millones por transaccion\n",
    "\n",
    "Vemos que no es posible corroborar esta informacion dado que no existe un tabla que nos informe del monto por cada factura, adicional a ello la columna InvoiceID tiene valores duplicados."
   ]
  },
  {
   "cell_type": "code",
   "execution_count": 25,
   "id": "3e1fb07c-92e4-49ba-b229-78c8ca70e02f",
   "metadata": {},
   "outputs": [
    {
     "name": "stdout",
     "output_type": "stream",
     "text": [
      "+---------+\n",
      "|InvoiceID|\n",
      "+---------+\n",
      "|  30102.0|\n",
      "|  39221.0|\n",
      "|  28134.0|\n",
      "|  50815.0|\n",
      "|  51013.0|\n",
      "|  26597.0|\n",
      "|  68581.0|\n",
      "|  42071.0|\n",
      "|  33322.0|\n",
      "|  67357.0|\n",
      "+---------+\n",
      "only showing top 10 rows\n",
      "\n"
     ]
    }
   ],
   "source": [
    "movimientos.select(\"InvoiceID\").distinct().show(10)"
   ]
  },
  {
   "cell_type": "code",
   "execution_count": 26,
   "id": "c0928d84-b281-4f48-95c7-07cd0cd144e5",
   "metadata": {},
   "outputs": [
    {
     "name": "stdout",
     "output_type": "stream",
     "text": [
      "51831\n"
     ]
    }
   ],
   "source": [
    "print(movimientos.select(\"InvoiceID\").distinct().count())"
   ]
  },
  {
   "cell_type": "markdown",
   "id": "92f1482c-502e-48c9-8990-179e006f4044",
   "metadata": {},
   "source": [
    "Asumiendo que la columna **_InvoiceID_** representa el monto total del movimiento, la regla tampoco seria cierta, ya que si obtenemos el valor maximo obtenido es 70510."
   ]
  },
  {
   "cell_type": "code",
   "execution_count": 27,
   "id": "a391af00-0103-4b2f-9f0c-814d4b6e9a36",
   "metadata": {},
   "outputs": [
    {
     "name": "stdout",
     "output_type": "stream",
     "text": [
      "+--------------+\n",
      "|max(InvoiceID)|\n",
      "+--------------+\n",
      "|       70510.0|\n",
      "+--------------+\n",
      "\n"
     ]
    }
   ],
   "source": [
    "movimientos.agg({'InvoiceID': 'max'}).show()"
   ]
  },
  {
   "cell_type": "markdown",
   "id": "a1b42bc8-4478-4300-8686-af88da2dd7a5",
   "metadata": {},
   "source": [
    "La conclusion es entonces es que no se puede determinar si la regla es cierta o no, dado que no hay existe una tabla **Invoice** que nos brinde el monto asociado a cada movimiento."
   ]
  },
  {
   "cell_type": "markdown",
   "id": "44e9ffe3-7348-40f3-89f2-e6bd4fbfab9e",
   "metadata": {},
   "source": [
    "### 3.3- Análisis descriptivo"
   ]
  },
  {
   "cell_type": "markdown",
   "id": "df52290b-5a59-4c53-b114-a7a70920dd85",
   "metadata": {},
   "source": [
    "## 4- Análisis de calidad de datos"
   ]
  },
  {
   "cell_type": "markdown",
   "id": "72dcfb70-eb40-4f9a-a314-1950cb8a80c2",
   "metadata": {},
   "source": [
    "### 4.1- Completitud"
   ]
  },
  {
   "cell_type": "markdown",
   "id": "03d9132a-9a0a-478d-ada7-97e8b7d90f58",
   "metadata": {},
   "source": [
    "### 4.2- Unicidad y Validez"
   ]
  },
  {
   "cell_type": "markdown",
   "id": "795b9e44-997e-451d-b3f6-572fdfb1eb90",
   "metadata": {},
   "source": [
    "### 4.3- Consistencia"
   ]
  },
  {
   "cell_type": "markdown",
   "id": "33d2406f-0509-4c3d-a0b2-e39b899c5a2e",
   "metadata": {},
   "source": [
    "## 5- Conclusiones/Resultados"
   ]
  },
  {
   "cell_type": "markdown",
   "id": "8ba16c48-f25d-4891-96f5-91136c423ed2",
   "metadata": {},
   "source": [
    "**Conclusiones generales:**\n",
    "\n",
    "\n",
    "**Conclusiones de reglas de negocio:**\n",
    "\n",
    "\n",
    "**Conclusiones de calidad:**\n",
    "\n",
    "**Conclusiones de consultoria**\n"
   ]
  },
  {
   "cell_type": "code",
   "execution_count": null,
   "id": "c95ac0db-5123-4e6f-bd39-1b789ccf9cd1",
   "metadata": {},
   "outputs": [],
   "source": []
  }
 ],
 "metadata": {
  "kernelspec": {
   "display_name": "Python 3 (ipykernel)",
   "language": "python",
   "name": "python3"
  },
  "language_info": {
   "codemirror_mode": {
    "name": "ipython",
    "version": 3
   },
   "file_extension": ".py",
   "mimetype": "text/x-python",
   "name": "python",
   "nbconvert_exporter": "python",
   "pygments_lexer": "ipython3",
   "version": "3.10.6"
  }
 },
 "nbformat": 4,
 "nbformat_minor": 5
}
